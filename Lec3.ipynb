{
 "cells": [
  {
   "cell_type": "markdown",
   "metadata": {},
   "source": [
    "# Linear Regression\n",
    "## Linear\n",
    "\\begin{equation*}\n",
    "Y = wX + b\n",
    "\\end{equation*}"
   ]
  },
  {
   "cell_type": "code",
   "execution_count": 1,
   "metadata": {},
   "outputs": [
    {
     "name": "stderr",
     "output_type": "stream",
     "text": [
      "/opt/conda/lib/python3.6/site-packages/h5py/__init__.py:36: FutureWarning: Conversion of the second argument of issubdtype from `float` to `np.floating` is deprecated. In future, it will be treated as `np.float64 == np.dtype(float).type`.\n",
      "  from ._conv import register_converters as _register_converters\n"
     ]
    }
   ],
   "source": [
    "import tensorflow as tf\n",
    "import utils\n",
    "import matplotlib.pyplot as plt\n",
    "import numpy as np\n",
    "\n",
    "DATA_FILE = \"data/birth_life_2010.txt\""
   ]
  },
  {
   "cell_type": "code",
   "execution_count": 2,
   "metadata": {},
   "outputs": [],
   "source": [
    "# Step 1: read in data from the .txt file\n",
    "# data is a numpy array of shape (190, 2), each row is a datapoint\n",
    "data, n_samples = utils.read_birth_life_data(DATA_FILE)"
   ]
  },
  {
   "cell_type": "code",
   "execution_count": 3,
   "metadata": {},
   "outputs": [],
   "source": [
    "# Step 2: create placeholders for X (birth rate) and Y (life expectancy)\n",
    "X = tf.placeholder(tf.float32, name='X')\n",
    "Y = tf.placeholder(tf.float32, name='Y')"
   ]
  },
  {
   "cell_type": "code",
   "execution_count": 4,
   "metadata": {},
   "outputs": [],
   "source": [
    "# Step 3: create weight and bias, initialized to 0\n",
    "w = tf.get_variable('weights', initializer=tf.constant(0.0))\n",
    "b = tf.get_variable('bias', initializer=tf.constant(0.0))"
   ]
  },
  {
   "cell_type": "code",
   "execution_count": 5,
   "metadata": {},
   "outputs": [],
   "source": [
    "# Step 4: construct model to predict Y (life expectancy from birth rate)\n",
    "Y_predicted = w * X + b"
   ]
  },
  {
   "cell_type": "code",
   "execution_count": 6,
   "metadata": {},
   "outputs": [],
   "source": [
    "# Step 5: use the square error as the loss function\n",
    "loss = tf.square(Y - Y_predicted, name='loss')"
   ]
  },
  {
   "cell_type": "code",
   "execution_count": 7,
   "metadata": {},
   "outputs": [],
   "source": [
    "# Step 6: using gradient descent with learning rate of 0.01 to minimize loss\n",
    "optimizer = tf.train.GradientDescentOptimizer(learning_rate=0.001).minimize(loss)"
   ]
  },
  {
   "cell_type": "code",
   "execution_count": 8,
   "metadata": {},
   "outputs": [],
   "source": [
    "with tf.Session() as sess:\n",
    "    # Step 7: initialize the necessary variables, in this case, w and b\n",
    "    sess.run(tf.variables_initializer(var_list=[w, b]))\n",
    "    \n",
    "    writer = tf.summary.FileWriter('./graphs/linear_reg', sess.graph)\n",
    "    # Step 8: train the model\n",
    "    for i in range(100): # run 100 epochs\n",
    "        for x, y in data:\n",
    "            # Session runs train_op to minimize loss\n",
    "            sess.run(optimizer, feed_dict={X: x, Y: y})\n",
    "            \n",
    "    # Step 9: output the values of w and b\n",
    "    w_out, b_out = sess.run([w, b])\n",
    "    writer.close()"
   ]
  },
  {
   "cell_type": "code",
   "execution_count": 9,
   "metadata": {},
   "outputs": [
    {
     "data": {
      "text/plain": [
       "(-6.0702143, 84.92951)"
      ]
     },
     "execution_count": 9,
     "metadata": {},
     "output_type": "execute_result"
    }
   ],
   "source": [
    "w_out, b_out"
   ]
  },
  {
   "cell_type": "code",
   "execution_count": 10,
   "metadata": {},
   "outputs": [
    {
     "data": {
      "image/png": "[encoded data removed]",
      "text/plain": [
       "<matplotlib.figure.Figure at 0x7fdc95176a90>"
      ]
     },
     "metadata": {},
     "output_type": "display_data"
    }
   ],
   "source": [
    "plt.plot(data[:,0], data[:,1], 'bo')\n",
    "x_line = data[:,0]\n",
    "x_line = np.sort(x_line)\n",
    "y_line = w_out * x_line + b_out\n",
    "plt.plot(x_line, y_line, 'r-')\n",
    "plt.show()"
   ]
  },
  {
   "cell_type": "markdown",
   "metadata": {},
   "source": [
    "## Quadratic function\n",
    "\\begin{equation*}\n",
    "Y_{predicted} = wX^2 + uX + b\n",
    "\\end{equation*}"
   ]
  },
  {
   "cell_type": "code",
   "execution_count": 11,
   "metadata": {},
   "outputs": [],
   "source": [
    "# Step 3: create variables: weights_1, weights_2, bias. All are initialized to 0\n",
    "w1 = tf.get_variable('weights_1', initializer=tf.constant(0.0))\n",
    "u1 = tf.get_variable('weights_2', initializer=tf.constant(0.0))\n",
    "b1 = tf.get_variable('bias_1', initializer=tf.constant(0.0))"
   ]
  },
  {
   "cell_type": "code",
   "execution_count": 12,
   "metadata": {},
   "outputs": [],
   "source": [
    "# Step 4: predict Y (number of theft) from the number of fire\n",
    "Y_predicted1 = w1 * X * X + X * u1 + b1"
   ]
  },
  {
   "cell_type": "code",
   "execution_count": 13,
   "metadata": {},
   "outputs": [],
   "source": [
    "# Step 5: Profit!\n",
    "loss1 = tf.square(Y - Y_predicted1, name='loss1')\n",
    "optimizer1 = tf.train.GradientDescentOptimizer(learning_rate=0.001).minimize(loss1)\n",
    "\n",
    "with tf.Session() as sess:\n",
    "    # Step 7: initialize the necessary variables, in this case, w and b\n",
    "    sess.run(tf.variables_initializer(var_list=[w1, u1, b1]))\n",
    "    \n",
    "    writer = tf.summary.FileWriter('./graphs/linear_reg', sess.graph)\n",
    "    # Step 8: train the model\n",
    "    for i in range(100): # run 100 epochs\n",
    "        for x, y in data:\n",
    "            # Session runs train_op to minimize loss\n",
    "            sess.run(optimizer1, feed_dict={X: x, Y: y})\n",
    "            \n",
    "    # Step 9: output the values of w and b\n",
    "    w_out1, u_out1, b_out1 = sess.run([w1, u1, b1])\n",
    "    writer.close()"
   ]
  },
  {
   "cell_type": "code",
   "execution_count": 14,
   "metadata": {},
   "outputs": [
    {
     "data": {
      "text/plain": [
       "(-1.4849563, 8.214782, 61.223858)"
      ]
     },
     "execution_count": 14,
     "metadata": {},
     "output_type": "execute_result"
    }
   ],
   "source": [
    "w_out1, u_out1, b_out1"
   ]
  },
  {
   "cell_type": "code",
   "execution_count": 15,
   "metadata": {},
   "outputs": [
    {
     "data": {
      "image/png": "[encoded data removed]",
      "text/plain": [
       "<matplotlib.figure.Figure at 0x7fdc8c75a240>"
      ]
     },
     "metadata": {},
     "output_type": "display_data"
    }
   ],
   "source": [
    "plt.plot(data[:,0], data[:,1], 'bo')\n",
    "x_curve = data[:,0]\n",
    "x_curve = np.sort(x_curve)\n",
    "y_curve = w_out1 * x_curve * x_curve + u_out1 * x_curve + b_out1\n",
    "plt.plot(x_curve, y_curve, 'r-')\n",
    "plt.show()"
   ]
  },
  {
   "cell_type": "markdown",
   "metadata": {},
   "source": [
    "# Huber loss\n",
    "\\begin{equation}\n",
    "L_{\\delta}(y, f(x)) = \n",
    "\\begin{cases}\n",
    "\\frac{1}{2}(y - f(x))^2,& \\text{for }|y-f(x)| \\leq \\delta \\\\ \n",
    "\\delta  |y-f(x)| - \\frac{1}{2}\\delta^2,& \\text{otherwise.}\n",
    "\\end{cases}\n",
    "\\end{equation}"
   ]
  },
  {
   "cell_type": "code",
   "execution_count": null,
   "metadata": {},
   "outputs": [],
   "source": [
    "if tf.abs(Y_predicted - Y) <= delta:\n",
    "    # do something"
   ]
  },
  {
   "cell_type": "code",
   "execution_count": 19,
   "metadata": {},
   "outputs": [
    {
     "data": {
      "text/plain": [
       "\u001b[0;31mSignature:\u001b[0m \u001b[0mtf\u001b[0m\u001b[0;34m.\u001b[0m\u001b[0mcond\u001b[0m\u001b[0;34m(\u001b[0m\u001b[0mpred\u001b[0m\u001b[0;34m,\u001b[0m \u001b[0mtrue_fn\u001b[0m\u001b[0;34m=\u001b[0m\u001b[0;32mNone\u001b[0m\u001b[0;34m,\u001b[0m \u001b[0mfalse_fn\u001b[0m\u001b[0;34m=\u001b[0m\u001b[0;32mNone\u001b[0m\u001b[0;34m,\u001b[0m \u001b[0mstrict\u001b[0m\u001b[0;34m=\u001b[0m\u001b[0;32mFalse\u001b[0m\u001b[0;34m,\u001b[0m \u001b[0mname\u001b[0m\u001b[0;34m=\u001b[0m\u001b[0;32mNone\u001b[0m\u001b[0;34m,\u001b[0m \u001b[0mfn1\u001b[0m\u001b[0;34m=\u001b[0m\u001b[0;32mNone\u001b[0m\u001b[0;34m,\u001b[0m \u001b[0mfn2\u001b[0m\u001b[0;34m=\u001b[0m\u001b[0;32mNone\u001b[0m\u001b[0;34m)\u001b[0m\u001b[0;34m\u001b[0m\u001b[0m\n",
       "\u001b[0;31mDocstring:\u001b[0m\n",
       "Return `true_fn()` if the predicate `pred` is true else `false_fn()`. (deprecated arguments)\n",
       "\n",
       "SOME ARGUMENTS ARE DEPRECATED. They will be removed in a future version.\n",
       "Instructions for updating:\n",
       "fn1/fn2 are deprecated in favor of the true_fn/false_fn arguments.\n",
       "\n",
       "`true_fn` and `false_fn` both return lists of output tensors. `true_fn` and\n",
       "`false_fn` must have the same non-zero number and type of outputs.\n",
       "\n",
       "Note that the conditional execution applies only to the operations defined in\n",
       "`true_fn` and `false_fn`. Consider the following simple program:\n",
       "\n",
       "```python\n",
       "z = tf.multiply(a, b)\n",
       "result = tf.cond(x < y, lambda: tf.add(x, z), lambda: tf.square(y))\n",
       "```\n",
       "\n",
       "If `x < y`, the `tf.add` operation will be executed and `tf.square`\n",
       "operation will not be executed. Since `z` is needed for at least one\n",
       "branch of the `cond`, the `tf.multiply` operation is always executed,\n",
       "unconditionally.\n",
       "Although this behavior is consistent with the dataflow model of TensorFlow,\n",
       "it has occasionally surprised some users who expected a lazier semantics.\n",
       "\n",
       "Note that `cond` calls `true_fn` and `false_fn` *exactly once* (inside the\n",
       "call to `cond`, and not at all during `Session.run()`). `cond`\n",
       "stitches together the graph fragments created during the `true_fn` and\n",
       "`false_fn` calls with some additional graph nodes to ensure that the right\n",
       "branch gets executed depending on the value of `pred`.\n",
       "\n",
       "`tf.cond` supports nested structures as implemented in\n",
       "`tensorflow.python.util.nest`. Both `true_fn` and `false_fn` must return the\n",
       "same (possibly nested) value structure of lists, tuples, and/or named tuples.\n",
       "Singleton lists and tuples form the only exceptions to this: when returned by\n",
       "`true_fn` and/or `false_fn`, they are implicitly unpacked to single values.\n",
       "This behavior is disabled by passing `strict=True`.\n",
       "\n",
       "Args:\n",
       "  pred: A scalar determining whether to return the result of `true_fn` or\n",
       "    `false_fn`.\n",
       "  true_fn: The callable to be performed if pred is true.\n",
       "  false_fn: The callable to be performed if pred is false.\n",
       "  strict: A boolean that enables/disables 'strict' mode; see above.\n",
       "  name: Optional name prefix for the returned tensors.\n",
       "\n",
       "Returns:\n",
       "  Tensors returned by the call to either `true_fn` or `false_fn`. If the\n",
       "  callables return a singleton list, the element is extracted from the list.\n",
       "\n",
       "Raises:\n",
       "  TypeError: if `true_fn` or `false_fn` is not callable.\n",
       "  ValueError: if `true_fn` and `false_fn` do not return the same number of\n",
       "    tensors, or return tensors of different types.\n",
       "\n",
       "Example:\n",
       "\n",
       "```python\n",
       "  x = tf.constant(2)\n",
       "  y = tf.constant(5)\n",
       "  def f1(): return tf.multiply(x, 17)\n",
       "  def f2(): return tf.add(y, 23)\n",
       "  r = tf.cond(tf.less(x, y), f1, f2)\n",
       "  # r is set to f1().\n",
       "  # Operations in f2 (e.g., tf.add) are not executed.\n",
       "```\n",
       "\u001b[0;31mFile:\u001b[0m      /opt/conda/lib/python3.6/site-packages/tensorflow/python/ops/control_flow_ops.py\n",
       "\u001b[0;31mType:\u001b[0m      function\n"
      ]
     },
     "metadata": {},
     "output_type": "display_data"
    }
   ],
   "source": [
    "tf.cond(\n",
    "        pred,\n",
    "        true_fn=None,\n",
    "        false_fn=None,\n",
    "        ...)\n",
    "tf.cond?"
   ]
  },
  {
   "cell_type": "code",
   "execution_count": 16,
   "metadata": {},
   "outputs": [],
   "source": [
    "def huber_loss(labels, predictions, delta=14.0):\n",
    "    residual = tf.abs(labels - predictions)\n",
    "    def f1(): return 0.5 * tf.square(residual)\n",
    "    def f2(): return delta * residual - 0.5 * tf.square(delta)\n",
    "    return tf.cond(residual < delta, f1, f2)"
   ]
  },
  {
   "cell_type": "code",
   "execution_count": 17,
   "metadata": {},
   "outputs": [],
   "source": [
    "w_huber = tf.get_variable('weights_huber', initializer=tf.constant(0.0))\n",
    "b_huber = tf.get_variable('bias_huber', initializer=tf.constant(0.0))"
   ]
  },
  {
   "cell_type": "code",
   "execution_count": 18,
   "metadata": {},
   "outputs": [],
   "source": [
    "Y_predicted_huber = w_huber * X + b_huber"
   ]
  },
  {
   "cell_type": "code",
   "execution_count": 19,
   "metadata": {},
   "outputs": [],
   "source": [
    "loss_huber = huber_loss(Y, Y_predicted_huber)\n",
    "optimizer_huber = tf.train.GradientDescentOptimizer(learning_rate=0.001).minimize(loss_huber)\n",
    "\n",
    "with tf.Session() as sess:\n",
    "    # Step 7: initialize the necessary variables, in this case, w and b\n",
    "    sess.run(tf.variables_initializer(var_list=[w_huber, b_huber]))\n",
    "    \n",
    "    writer = tf.summary.FileWriter('./graphs/linear_reg', sess.graph)\n",
    "    # Step 8: train the model\n",
    "    for i in range(100): # run 100 epochs\n",
    "        for x, y in data:\n",
    "            # Session runs train_op to minimize loss\n",
    "            sess.run(optimizer_huber, feed_dict={X: x, Y: y})\n",
    "            \n",
    "    # Step 9: output the values of w and b\n",
    "    w_out_huber, b_out_huber = sess.run([w_huber, b_huber])\n",
    "    writer.close()"
   ]
  },
  {
   "cell_type": "code",
   "execution_count": 20,
   "metadata": {},
   "outputs": [
    {
     "data": {
      "text/plain": [
       "(-4.2249994, 78.485054)"
      ]
     },
     "execution_count": 20,
     "metadata": {},
     "output_type": "execute_result"
    }
   ],
   "source": [
    "w_out_huber, b_out_huber"
   ]
  },
  {
   "cell_type": "code",
   "execution_count": 21,
   "metadata": {},
   "outputs": [
    {
     "data": {
      "image/png": "[encoded data removed]",
      "text/plain": [
       "<matplotlib.figure.Figure at 0x7fdc8c75a2b0>"
      ]
     },
     "metadata": {},
     "output_type": "display_data"
    }
   ],
   "source": [
    "plt.plot(data[:,0], data[:,1], 'bo')\n",
    "x_line = data[:,0]\n",
    "x_line = np.sort(x_line)\n",
    "y_line = w_out * x_line + b_out\n",
    "plt.plot(x_line, y_line, 'r-')\n",
    "y_huber = w_out_huber * x_line + b_out_huber\n",
    "plt.plot(x_line, y_huber, 'g-')\n",
    "plt.legend(['Real data', 'Predicted data with squared error', 'Predicted data with Huber loss'])\n",
    "plt.show()"
   ]
  },
  {
   "cell_type": "markdown",
   "metadata": {},
   "source": [
    "# tf.data"
   ]
  },
  {
   "cell_type": "markdown",
   "metadata": {},
   "source": [
    "placeholder와 feed_dicts는 Tensorflow 밖의 데이터에 대해 shuffle, batch, generate arbitrary data를 쉽게 해준다.  \n",
    "하지만 하나의 thread로 데이터를 처리하고 이는 data bottleneck를 만들기 때문에 프로그램이 느려질 수 있다는 단점이 있다.  "
   ]
  },
  {
   "cell_type": "markdown",
   "metadata": {},
   "source": [
    "Tensorflow는 pipelining, threading을 할 수 있는 queue를 제공한다.  \n",
    "이는 placeholder에 비해 속도가 줄어들지만, 다루기가 어려울 뿐더러 문제가 생길 수 있다."
   ]
  },
  {
   "cell_type": "markdown",
   "metadata": {},
   "source": [
    "tf.data는 placeholder보다 빠르고 queue보다 다루기 쉽다!  \n",
    "numpy array에 데이터를 저장하는 placeholder와 달리, tf.data.Dataset에 저장한다."
   ]
  },
  {
   "cell_type": "code",
   "execution_count": null,
   "metadata": {},
   "outputs": [],
   "source": [
    "tf.data.Dataset.from_tensor_slices((features, labels))\n",
    "# features와 label은 tensor라 보일 수 있지만, numpy array가 될 수도 있다.(tensorflow와 numpy는 통합되어 있다고 볼 수 있기 때문에)"
   ]
  },
  {
   "cell_type": "code",
   "execution_count": 22,
   "metadata": {},
   "outputs": [],
   "source": [
    "dataset = tf.data.Dataset.from_tensor_slices((data[:,0], data[:,1]))"
   ]
  },
  {
   "cell_type": "code",
   "execution_count": 23,
   "metadata": {},
   "outputs": [
    {
     "name": "stdout",
     "output_type": "stream",
     "text": [
      "(tf.float32, tf.float32)\n",
      "(TensorShape([]), TensorShape([]))\n"
     ]
    }
   ],
   "source": [
    "print(dataset.output_types)\n",
    "print(dataset.output_shapes)"
   ]
  },
  {
   "cell_type": "markdown",
   "metadata": {},
   "source": [
    "- tf.data.TextLineDataset(filenames): csv파일처럼 한 줄씩 불러올 때 좋음\n",
    "- tf.data.FixedLengthRecordDataset(filenames): CIFAR나 ImageNet처럼 길이가 정해져 있을 때 좋음\n",
    "- tf.data.TFRecordDataset(filenames): data가 tfrecord format으로 저장되어 있을 때 좋음"
   ]
  },
  {
   "cell_type": "code",
   "execution_count": null,
   "metadata": {},
   "outputs": [],
   "source": [
    "# Example\n",
    "dataset = tf.data.FixedLengthRecordDataset([file1, file2, file3, ...])"
   ]
  },
  {
   "cell_type": "code",
   "execution_count": 24,
   "metadata": {},
   "outputs": [],
   "source": [
    "iterator = dataset.make_one_shot_iterator()\n",
    "X, Y = iterator.get_next() # X is the birth rate, Y is the life expectancy"
   ]
  },
  {
   "cell_type": "markdown",
   "metadata": {},
   "source": [
    "X, Y를 실행할 때 마다 새로운 데이터를 얻을 수 있다"
   ]
  },
  {
   "cell_type": "code",
   "execution_count": 25,
   "metadata": {},
   "outputs": [
    {
     "name": "stdout",
     "output_type": "stream",
     "text": [
      "[1.822, 74.82825]\n",
      "[3.869, 70.81949]\n",
      "[3.911, 72.15066]\n"
     ]
    }
   ],
   "source": [
    "with tf.Session() as sess:\n",
    "    print(sess.run([X, Y]))\n",
    "    print(sess.run([X, Y]))\n",
    "    print(sess.run([X, Y]))"
   ]
  },
  {
   "cell_type": "code",
   "execution_count": null,
   "metadata": {},
   "outputs": [],
   "source": [
    "iterator = dataset.make_initializable_iterator() # to use for multiple epochs\n",
    "\n",
    "with tf.Session() as sess:\n",
    "    for i in range(100): # train the model 100 epochs\n",
    "        sess.run(iterator.initializer)\n",
    "        total_loss = 0\n",
    "        try:\n",
    "            while True:\n",
    "                sess.run([optimizer])\n",
    "        except tf.errors.OutOfRangeError:\n",
    "            pass"
   ]
  },
  {
   "cell_type": "code",
   "execution_count": null,
   "metadata": {},
   "outputs": [],
   "source": [
    "dataset = dataset.shuffle(1000)\n",
    "dataset = dataset.repeat(100)\n",
    "dataset = dataset.batch(128)\n",
    "dataset = dataset.map(lambda x: tf.one_hot(x, 10))\n",
    "# convert each element of dataset to one_hot vector"
   ]
  },
  {
   "cell_type": "markdown",
   "metadata": {},
   "source": [
    "# Optimizers"
   ]
  },
  {
   "cell_type": "code",
   "execution_count": null,
   "metadata": {},
   "outputs": [],
   "source": [
    "optimizer = tf.train.GradientDescentOptimizer(learning_rate=0.001).minimize(loss)\n",
    "sess.run([[optimizer]])"
   ]
  },
  {
   "cell_type": "markdown",
   "metadata": {},
   "source": [
    "Optimizer는 모든 trainable variables를 train시킨다.  \n",
    "train을 원하는 않는 변수는 trainable=False로 정의해주면 된다."
   ]
  },
  {
   "cell_type": "code",
   "execution_count": null,
   "metadata": {},
   "outputs": [],
   "source": [
    "global_step = tf.Variable(0, trainable=False, dtype=tf.int32)\n",
    "learning_rate = 0.01 * 0.99 ** tf.cast(global_step, tf.float32)\n",
    "increment_step = global_step.assign_add(1)\n",
    "optimizer = tf.train.GradientDescentOptimizer(learning_rate) # learning rate can be a tensor"
   ]
  },
  {
   "cell_type": "code",
   "execution_count": null,
   "metadata": {},
   "outputs": [],
   "source": [
    "tf.Variable(\n",
    "    initial_value=None,\n",
    "    trainable=True,\n",
    "    collections=None,\n",
    "    validate_shape=True,\n",
    "    caching_device=None,\n",
    "    name=None,\n",
    "    variable_def=None,\n",
    "    dtype=None,\n",
    "    expected_shape=None,\n",
    "    import_scope=None,\n",
    "    constraint=None\n",
    ")\n",
    "\n",
    "tf.get_variable(\n",
    "    name,\n",
    "    shape=None,\n",
    "    dtype=None,\n",
    "    initializer=None,\n",
    "    regularizer=None,\n",
    "    trainable=True,\n",
    "    collections=None,\n",
    "    caching_device=None,\n",
    "    partitioner=None,\n",
    "    validate_shape=True,\n",
    "    use_resource=None,\n",
    "    custom_getter=None,\n",
    "    constraint=None\n",
    ")\n"
   ]
  },
  {
   "cell_type": "markdown",
   "metadata": {},
   "source": [
    "특정 변수의 gradients를 얻을 수 있고 optimizer로 계산된 gradients를 수정할 수 있다."
   ]
  },
  {
   "cell_type": "code",
   "execution_count": null,
   "metadata": {},
   "outputs": [],
   "source": [
    "# create an optimizer.\n",
    "optimizer = tf.train.GradientDescentOptimizer(learning_rate=0.1)\n",
    "\n",
    "# compute the gradients for a list of variables.\n",
    "grads_and_vars = optimizer.compute_gradients(loss, <list of variables>)\n",
    "\n",
    "# grads_and_vars is a list of tuples (gradient, variable).\n",
    "# Do whatever you need to the 'gradient' part, for example, subtract each of them by 1.\n",
    "subtracted_grads_and_vars = [(gv[0] - 1.0, gv[1]) for gv in grads_and_vars]\n",
    "\n",
    "# ask the optimizer to apply the subtracted gradients.\n",
    "optimizer.apply_gradients(subtracted_grads_and_vars)"
   ]
  },
  {
   "cell_type": "markdown",
   "metadata": {},
   "source": [
    "tf.stop_gradient를 통해 특정 tensor의 미분 값 계산을 막을 수 있다.  \n",
    "- GAN\n",
    "- EM(Expectation-Maximization) algorithm"
   ]
  },
  {
   "cell_type": "code",
   "execution_count": 2,
   "metadata": {},
   "outputs": [
    {
     "data": {
      "text/plain": [
       "\u001b[0;31mSignature:\u001b[0m \u001b[0mtf\u001b[0m\u001b[0;34m.\u001b[0m\u001b[0mstop_gradient\u001b[0m\u001b[0;34m(\u001b[0m\u001b[0minput\u001b[0m\u001b[0;34m,\u001b[0m \u001b[0mname\u001b[0m\u001b[0;34m=\u001b[0m\u001b[0;32mNone\u001b[0m\u001b[0;34m)\u001b[0m\u001b[0;34m\u001b[0m\u001b[0m\n",
       "\u001b[0;31mDocstring:\u001b[0m\n",
       "Stops gradient computation.\n",
       "\n",
       "When executed in a graph, this op outputs its input tensor as-is.\n",
       "\n",
       "When building ops to compute gradients, this op prevents the contribution of\n",
       "its inputs to be taken into account.  Normally, the gradient generator adds ops\n",
       "to a graph to compute the derivatives of a specified 'loss' by recursively\n",
       "finding out inputs that contributed to its computation.  If you insert this op\n",
       "in the graph it inputs are masked from the gradient generator.  They are not\n",
       "taken into account for computing gradients.\n",
       "\n",
       "This is useful any time you want to compute a value with TensorFlow but need\n",
       "to pretend that the value was a constant. Some examples include:\n",
       "\n",
       "*  The *EM* algorithm where the *M-step* should not involve backpropagation\n",
       "   through the output of the *E-step*.\n",
       "*  Contrastive divergence training of Boltzmann machines where, when\n",
       "   differentiating the energy function, the training must not backpropagate\n",
       "   through the graph that generated the samples from the model.\n",
       "*  Adversarial training, where no backprop should happen through the adversarial\n",
       "   example generation process.\n",
       "\n",
       "Args:\n",
       "  input: A `Tensor`.\n",
       "  name: A name for the operation (optional).\n",
       "\n",
       "Returns:\n",
       "  A `Tensor`. Has the same type as `input`.\n",
       "\u001b[0;31mFile:\u001b[0m      /opt/conda/lib/python3.6/site-packages/tensorflow/python/ops/gen_array_ops.py\n",
       "\u001b[0;31mType:\u001b[0m      function\n"
      ]
     },
     "metadata": {},
     "output_type": "display_data"
    }
   ],
   "source": [
    "tf.stop_gradient?"
   ]
  },
  {
   "cell_type": "markdown",
   "metadata": {},
   "source": [
    "optimizer클래스는 자동으로 미분 값을 계산해주고, tf.gradients를 통해 특정 gradients를 계산할 수 있다."
   ]
  },
  {
   "cell_type": "code",
   "execution_count": 3,
   "metadata": {},
   "outputs": [
    {
     "data": {
      "text/plain": [
       "\u001b[0;31mSignature:\u001b[0m \u001b[0mtf\u001b[0m\u001b[0;34m.\u001b[0m\u001b[0mgradients\u001b[0m\u001b[0;34m(\u001b[0m\u001b[0mys\u001b[0m\u001b[0;34m,\u001b[0m \u001b[0mxs\u001b[0m\u001b[0;34m,\u001b[0m \u001b[0mgrad_ys\u001b[0m\u001b[0;34m=\u001b[0m\u001b[0;32mNone\u001b[0m\u001b[0;34m,\u001b[0m \u001b[0mname\u001b[0m\u001b[0;34m=\u001b[0m\u001b[0;34m'gradients'\u001b[0m\u001b[0;34m,\u001b[0m \u001b[0mcolocate_gradients_with_ops\u001b[0m\u001b[0;34m=\u001b[0m\u001b[0;32mFalse\u001b[0m\u001b[0;34m,\u001b[0m \u001b[0mgate_gradients\u001b[0m\u001b[0;34m=\u001b[0m\u001b[0;32mFalse\u001b[0m\u001b[0;34m,\u001b[0m \u001b[0maggregation_method\u001b[0m\u001b[0;34m=\u001b[0m\u001b[0;32mNone\u001b[0m\u001b[0;34m,\u001b[0m \u001b[0mstop_gradients\u001b[0m\u001b[0;34m=\u001b[0m\u001b[0;32mNone\u001b[0m\u001b[0;34m)\u001b[0m\u001b[0;34m\u001b[0m\u001b[0m\n",
       "\u001b[0;31mDocstring:\u001b[0m\n",
       "Constructs symbolic derivatives of sum of `ys` w.r.t. x in `xs`.\n",
       "\n",
       "`ys` and `xs` are each a `Tensor` or a list of tensors.  `grad_ys`\n",
       "is a list of `Tensor`, holding the gradients received by the\n",
       "`ys`. The list must be the same length as `ys`.\n",
       "\n",
       "`gradients()` adds ops to the graph to output the derivatives of `ys` with\n",
       "respect to `xs`.  It returns a list of `Tensor` of length `len(xs)` where\n",
       "each tensor is the `sum(dy/dx)` for y in `ys`.\n",
       "\n",
       "`grad_ys` is a list of tensors of the same length as `ys` that holds\n",
       "the initial gradients for each y in `ys`.  When `grad_ys` is None,\n",
       "we fill in a tensor of '1's of the shape of y for each y in `ys`.  A\n",
       "user can provide their own initial `grad_ys` to compute the\n",
       "derivatives using a different initial gradient for each y (e.g., if\n",
       "one wanted to weight the gradient differently for each value in\n",
       "each y).\n",
       "\n",
       "`stop_gradients` is a `Tensor` or a list of tensors to be considered constant\n",
       "with respect to all `xs`. These tensors will not be backpropagated through,\n",
       "as though they had been explicitly disconnected using `stop_gradient`.  Among\n",
       "other things, this allows computation of partial derivatives as opposed to\n",
       "total derivatives. For example:\n",
       "\n",
       "```python\n",
       "a = tf.constant(0.)\n",
       "b = 2 * a\n",
       "g = tf.gradients(a + b, [a, b], stop_gradients=[a, b])\n",
       "```\n",
       "\n",
       "Here the partial derivatives `g` evaluate to `[1.0, 1.0]`, compared to the\n",
       "total derivatives `tf.gradients(a + b, [a, b])`, which take into account the\n",
       "influence of `a` on `b` and evaluate to `[3.0, 1.0]`.  Note that the above is\n",
       "equivalent to:\n",
       "\n",
       "```python\n",
       "a = tf.stop_gradient(tf.constant(0.))\n",
       "b = tf.stop_gradient(2 * a)\n",
       "g = tf.gradients(a + b, [a, b])\n",
       "```\n",
       "\n",
       "`stop_gradients` provides a way of stopping gradient after the graph has\n",
       "already been constructed, as compared to `tf.stop_gradient` which is used\n",
       "during graph construction.  When the two approaches are combined,\n",
       "backpropagation stops at both `tf.stop_gradient` nodes and nodes in\n",
       "`stop_gradients`, whichever is encountered first.\n",
       "\n",
       "Args:\n",
       "  ys: A `Tensor` or list of tensors to be differentiated.\n",
       "  xs: A `Tensor` or list of tensors to be used for differentiation.\n",
       "  grad_ys: Optional. A `Tensor` or list of tensors the same size as\n",
       "    `ys` and holding the gradients computed for each y in `ys`.\n",
       "  name: Optional name to use for grouping all the gradient ops together.\n",
       "    defaults to 'gradients'.\n",
       "  colocate_gradients_with_ops: If True, try colocating gradients with\n",
       "    the corresponding op.\n",
       "  gate_gradients: If True, add a tuple around the gradients returned\n",
       "    for an operations.  This avoids some race conditions.\n",
       "  aggregation_method: Specifies the method used to combine gradient terms.\n",
       "    Accepted values are constants defined in the class `AggregationMethod`.\n",
       "  stop_gradients: Optional. A `Tensor` or list of tensors not to differentiate\n",
       "    through.\n",
       "\n",
       "Returns:\n",
       "  A list of `sum(dy/dx)` for each x in `xs`.\n",
       "\n",
       "Raises:\n",
       "  LookupError: if one of the operations between `x` and `y` does not\n",
       "    have a registered gradient function.\n",
       "  ValueError: if the arguments are invalid.\n",
       "  RuntimeError: if called in Eager mode.\n",
       "\u001b[0;31mFile:\u001b[0m      /opt/conda/lib/python3.6/site-packages/tensorflow/python/ops/gradients_impl.py\n",
       "\u001b[0;31mType:\u001b[0m      function\n"
      ]
     },
     "metadata": {},
     "output_type": "display_data"
    }
   ],
   "source": [
    "tf.gradients(\n",
    "    ys,\n",
    "    xs,\n",
    "    grad_ys=None,\n",
    "    name='gradients',\n",
    "    colocate_gradients_with_ops=False,\n",
    "    gate_gradients=False,\n",
    "    aggregation_method=None,\n",
    "    stop_gradients=None\n",
    ")\n",
    "tf.gradients?"
   ]
  },
  {
   "cell_type": "code",
   "execution_count": null,
   "metadata": {},
   "outputs": [],
   "source": [
    "tf.train.Optimizer\n",
    "tf.train.GradientDescentOptimizer\n",
    "tf.train.AdadeltaOptimizer\n",
    "tf.train.AdagradOptimizer\n",
    "tf.train.AdagradDAOptimizer\n",
    "tf.train.MomentumOptimizer\n",
    "tf.train.AdamOptimizer\n",
    "tf.train.FtrlOptimizer\n",
    "tf.train.ProximalGradientDescentOptimizer\n",
    "tf.train.ProximalAdagradOptimizer\n",
    "tf.train.RMSPropOptimizer"
   ]
  },
  {
   "cell_type": "markdown",
   "metadata": {},
   "source": [
    "### “RMSprop is an extension of Adagrad that deals with its radically diminishing learning rates. It is identical to Adadelta, except that Adadelta uses the RMS of parameter updates in the numerator update rule. Adam, finally, adds bias-correction and momentum to RMSprop. Insofar, RMSprop, Adadelta, and Adam are very similar algorithms that do well in similar circumstances. Kingma et al. [15] show that its bias-correction helps Adam slightly outperform RMSprop towards the end of optimization as gradients become sparser. Insofar, Adam might be the best overall choice.”\n"
   ]
  },
  {
   "cell_type": "markdown",
   "metadata": {},
   "source": [
    "### TL;DR: Use AdamOptimizer."
   ]
  },
  {
   "cell_type": "markdown",
   "metadata": {},
   "source": [
    "# Logistic Regression"
   ]
  },
  {
   "cell_type": "markdown",
   "metadata": {},
   "source": [
    "## MNIST(Mixed National Institute of Standards and Technology database)\n",
    "- each image is 28 x 28 pixels (각 image를 1-d tensor로 바꾸면 size가 784)\n",
    "- Each comes with a label from 0 to 9\n",
    "- The dataset is hosted on Yann Lecun's website"
   ]
  },
  {
   "cell_type": "code",
   "execution_count": null,
   "metadata": {},
   "outputs": [],
   "source": [
    "# for downloading MNIST through TF Learn\n",
    "from tensorflow.examples.tutorials.mnist import input_data\n",
    "mnist = input_data.read_data_sets('data/mnist', one_hot=True)"
   ]
  },
  {
   "cell_type": "markdown",
   "metadata": {},
   "source": [
    "## One-hot encoding\n",
    "### In digital circuits, one-hot refers to a group of bits among which the legal combinations of values are only those with a single high (1) bit and all the others low (0).\n",
    "\n",
    "### In this case, one-hot encoding means that if the output of the image is the digit 7, then the output will be encoded as a vector of 10 elements with all elements being 0, except for the element at index 7 which is 1."
   ]
  },
  {
   "cell_type": "code",
   "execution_count": 1,
   "metadata": {},
   "outputs": [
    {
     "name": "stderr",
     "output_type": "stream",
     "text": [
      "/opt/conda/lib/python3.6/site-packages/h5py/__init__.py:36: FutureWarning: Conversion of the second argument of issubdtype from `float` to `np.floating` is deprecated. In future, it will be treated as `np.float64 == np.dtype(float).type`.\n",
      "  from ._conv import register_converters as _register_converters\n"
     ]
    },
    {
     "name": "stdout",
     "output_type": "stream",
     "text": [
      "data/mnist/train-images-idx3-ubyte.gz already exists\n",
      "data/mnist/train-labels-idx1-ubyte.gz already exists\n",
      "data/mnist/t10k-images-idx3-ubyte.gz already exists\n",
      "data/mnist/t10k-labels-idx1-ubyte.gz already exists\n",
      "WARNING:tensorflow:From <ipython-input-1-1065fdb2e518>:60: softmax_cross_entropy_with_logits (from tensorflow.python.ops.nn_ops) is deprecated and will be removed in a future version.\n",
      "Instructions for updating:\n",
      "\n",
      "Future major versions of TensorFlow will allow gradients to flow\n",
      "into the labels input on backprop by default.\n",
      "\n",
      "See tf.nn.softmax_cross_entropy_with_logits_v2.\n",
      "\n",
      "Average loss epoch 0: 0.3662820118457772\n",
      "Average loss epoch 1: 0.29320197296003964\n",
      "Average loss epoch 2: 0.2827374105883199\n",
      "Average loss epoch 3: 0.2775724386753038\n",
      "Average loss epoch 4: 0.27064311991250795\n",
      "Average loss epoch 5: 0.2714897514602473\n",
      "Average loss epoch 6: 0.2689218979588775\n",
      "Average loss epoch 7: 0.26733632948856023\n",
      "Average loss epoch 8: 0.2629212917283524\n",
      "Average loss epoch 9: 0.2623859111306279\n",
      "Average loss epoch 10: 0.2629049094090628\n",
      "Average loss epoch 11: 0.26166703234924826\n",
      "Average loss epoch 12: 0.26130418846773545\n",
      "Average loss epoch 13: 0.25815800194476923\n",
      "Average loss epoch 14: 0.2590894779666912\n",
      "Average loss epoch 15: 0.2585139939778073\n",
      "Average loss epoch 16: 0.2572760406275128\n",
      "Average loss epoch 17: 0.25703037356914477\n",
      "Average loss epoch 18: 0.2536285680220571\n",
      "Average loss epoch 19: 0.25453202991291535\n",
      "Average loss epoch 20: 0.2559944091321424\n",
      "Average loss epoch 21: 0.2574053058270798\n",
      "Average loss epoch 22: 0.2521387586586697\n",
      "Average loss epoch 23: 0.25297500210445983\n",
      "Average loss epoch 24: 0.2528462581163229\n",
      "Average loss epoch 25: 0.25176268509307576\n",
      "Average loss epoch 26: 0.2524525240756745\n",
      "Average loss epoch 27: 0.2512945104130479\n",
      "Average loss epoch 28: 0.2542943190783262\n",
      "Average loss epoch 29: 0.25137635779588724\n",
      "Total time: 27.01026463508606 seconds\n",
      "Accuracy 0.9195\n"
     ]
    }
   ],
   "source": [
    "\"\"\" Solution for simple logistic regression model for MNIST\n",
    "with tf.data module\n",
    "MNIST dataset: yann.lecun.com/exdb/mnist/\n",
    "Created by Chip Huyen (chiphuyen@cs.stanford.edu)\n",
    "CS20: \"TensorFlow for Deep Learning Research\"\n",
    "cs20.stanford.edu\n",
    "Lecture 03\n",
    "\"\"\"\n",
    "import os\n",
    "os.environ['TF_CPP_MIN_LOG_LEVEL']='2'\n",
    "\n",
    "import numpy as np\n",
    "import tensorflow as tf\n",
    "import time\n",
    "\n",
    "import utils\n",
    "\n",
    "# Define paramaters for the model\n",
    "learning_rate = 0.01\n",
    "batch_size = 128\n",
    "n_epochs = 30\n",
    "n_train = 60000\n",
    "n_test = 10000\n",
    "\n",
    "# Step 1: Read in data\n",
    "mnist_folder = 'data/mnist'\n",
    "utils.download_mnist(mnist_folder)\n",
    "train, val, test = utils.read_mnist(mnist_folder, flatten=True)\n",
    "\n",
    "# Step 2: Create datasets and iterator\n",
    "train_data = tf.data.Dataset.from_tensor_slices(train)\n",
    "train_data = train_data.shuffle(10000) # if you want to shuffle your data\n",
    "train_data = train_data.batch(batch_size)\n",
    "\n",
    "test_data = tf.data.Dataset.from_tensor_slices(test)\n",
    "test_data = test_data.batch(batch_size)\n",
    "\n",
    "iterator = tf.data.Iterator.from_structure(train_data.output_types, \n",
    "                                           train_data.output_shapes)\n",
    "img, label = iterator.get_next()\n",
    "\n",
    "train_init = iterator.make_initializer(train_data)\t# initializer for train_data\n",
    "test_init = iterator.make_initializer(test_data)\t# initializer for train_data\n",
    "\n",
    "# Step 3: create weights and bias\n",
    "# w is initialized to random variables with mean of 0, stddev of 0.01\n",
    "# b is initialized to 0\n",
    "# shape of w depends on the dimension of X and Y so that Y = tf.matmul(X, w)\n",
    "# shape of b depends on Y\n",
    "w = tf.get_variable(name='weights', shape=(784, 10), initializer=tf.random_normal_initializer(0, 0.01))\n",
    "b = tf.get_variable(name='bias', shape=(1, 10), initializer=tf.zeros_initializer())\n",
    "\n",
    "# Step 4: build model\n",
    "# the model that returns the logits.\n",
    "# this logits will be later passed through softmax layer\n",
    "logits = tf.matmul(img, w) + b \n",
    "\n",
    "# Step 5: define loss function\n",
    "# use cross entropy of softmax of logits as the loss function\n",
    "entropy = tf.nn.softmax_cross_entropy_with_logits(logits=logits, labels=label, name='entropy')\n",
    "loss = tf.reduce_mean(entropy, name='loss') # computes the mean over all the examples in the batch\n",
    "\n",
    "# Step 6: define training op\n",
    "# using gradient descent with learning rate of 0.01 to minimize loss\n",
    "optimizer = tf.train.AdamOptimizer(learning_rate).minimize(loss)\n",
    "\n",
    "# Step 7: calculate accuracy with test set\n",
    "preds = tf.nn.softmax(logits)\n",
    "correct_preds = tf.equal(tf.argmax(preds, 1), tf.argmax(label, 1))\n",
    "accuracy = tf.reduce_sum(tf.cast(correct_preds, tf.float32))\n",
    "\n",
    "writer = tf.summary.FileWriter('./graphs/logreg', tf.get_default_graph())\n",
    "with tf.Session() as sess:\n",
    "   \n",
    "    start_time = time.time()\n",
    "    sess.run(tf.global_variables_initializer())\n",
    "\n",
    "    # train the model n_epochs times\n",
    "    for i in range(n_epochs): \t\n",
    "        sess.run(train_init)\t# drawing samples from train_data\n",
    "        total_loss = 0\n",
    "        n_batches = 0\n",
    "        try:\n",
    "            while True:\n",
    "                _, l = sess.run([optimizer, loss])\n",
    "                total_loss += l\n",
    "                n_batches += 1\n",
    "        except tf.errors.OutOfRangeError:\n",
    "            pass\n",
    "        print('Average loss epoch {0}: {1}'.format(i, total_loss/n_batches))\n",
    "    print('Total time: {0} seconds'.format(time.time() - start_time))\n",
    "\n",
    "    # test the model\n",
    "    sess.run(test_init)\t\t\t# drawing samples from test_data\n",
    "    total_correct_preds = 0\n",
    "    try:\n",
    "        while True:\n",
    "            accuracy_batch = sess.run(accuracy)\n",
    "            total_correct_preds += accuracy_batch\n",
    "    except tf.errors.OutOfRangeError:\n",
    "        pass\n",
    "\n",
    "    print('Accuracy {0}'.format(total_correct_preds/n_test))\n",
    "writer.close()"
   ]
  },
  {
   "cell_type": "code",
   "execution_count": 2,
   "metadata": {},
   "outputs": [
    {
     "name": "stdout",
     "output_type": "stream",
     "text": [
      "data/mnist/train-images-idx3-ubyte.gz already exists\n",
      "data/mnist/train-labels-idx1-ubyte.gz already exists\n",
      "data/mnist/t10k-images-idx3-ubyte.gz already exists\n",
      "data/mnist/t10k-labels-idx1-ubyte.gz already exists\n"
     ]
    }
   ],
   "source": [
    "mnist_folder = 'data/mnist'\n",
    "utils.download_mnist(mnist_folder)\n",
    "train, val, test = utils.read_mnist(mnist_folder, flatten=True) # flatten=True: for flattening each image into a 1-d tensor.\n",
    "# train, val, test는 numpy array의 tuple이고 첫 번째는 images, 두 번째는 labels"
   ]
  },
  {
   "cell_type": "code",
   "execution_count": 3,
   "metadata": {},
   "outputs": [],
   "source": [
    "train_data = tf.data.Dataset.from_tensor_slices(train)\n",
    "# train_data = train_data.shuffle(10000) # if you want to shuffle your data\n",
    "test_data = tf.data.Dataset.from_tensor_slices(test)"
   ]
  },
  {
   "cell_type": "markdown",
   "metadata": {},
   "source": [
    "logistic regression model 형성은 linear regression model과 유사하다.  \n",
    "하지만 아주 많은 데이터가 있기 때문에 한 데이터마다 gradient를 계산하면 매우 느리다.  \n",
    "우리는 배치로 데이터에 접근할 수 있다!  "
   ]
  },
  {
   "cell_type": "code",
   "execution_count": 4,
   "metadata": {},
   "outputs": [],
   "source": [
    "train_data = train_data.batch(batch_size)\n",
    "test_data = test_data.batch(batch_size)"
   ]
  },
  {
   "cell_type": "markdown",
   "metadata": {},
   "source": [
    "두 dataset에서 sample을 얻기 위해 iterator를 만든다.  \n",
    "linear regression example에서는 train set만 사용해서 iterator 하나만 만들고 sample들을 보냈다.  \n",
    "여기선 dataset이 하나 보다 많기 때문에, 각 dataset당 iterator가 있으면 각 iterator당 하나의 graph가 필요하다.  \n",
    "더 좋은 방법은 iterator 하나만 만들고 초기화하는 것이다."
   ]
  },
  {
   "cell_type": "code",
   "execution_count": 5,
   "metadata": {},
   "outputs": [],
   "source": [
    "iterator = tf.data.Iterator.from_structure(train_data.output_types,\n",
    "                                           train_data.output_shapes)\n",
    "img, label = iterator.get_next()"
   ]
  },
  {
   "cell_type": "code",
   "execution_count": 7,
   "metadata": {},
   "outputs": [],
   "source": [
    "train_init = iterator.make_initializer(train_data) # initializer for train_data\n",
    "test_init = iterator.make_initializer(test_data) # initializer for test_data"
   ]
  },
  {
   "cell_type": "code",
   "execution_count": null,
   "metadata": {},
   "outputs": [],
   "source": [
    "with tf.Session() as sess:\n",
    "    sess.run(tf.global_variables_initializer())\n",
    "    \n",
    "    for i in range(n_epochs): # train the model n_epochs times\n",
    "        sess.run(train_init)  # drawing samples from train_data\n",
    "        try:\n",
    "            while True:\n",
    "                _, l = sess.run([optimizer, loss])\n",
    "        except tf.errors.OutOfRangeError:\n",
    "            pass\n",
    "        \n",
    "    # test the model\n",
    "    sess.run(test_init)       # drawing samplex from test_data\n",
    "    try:\n",
    "        while True:\n",
    "            sess.run(accuracy)\n",
    "    except tf.errors.OutOfRangeError:\n",
    "        pass"
   ]
  },
  {
   "cell_type": "code",
   "execution_count": null,
   "metadata": {},
   "outputs": [],
   "source": []
  }
 ],
 "metadata": {
  "kernelspec": {
   "display_name": "Python 3",
   "language": "python",
   "name": "python3"
  },
  "language_info": {
   "codemirror_mode": {
    "name": "ipython",
    "version": 3
   },
   "file_extension": ".py",
   "mimetype": "text/x-python",
   "name": "python",
   "nbconvert_exporter": "python",
   "pygments_lexer": "ipython3",
   "version": "3.6.4"
  }
 },
 "nbformat": 4,
 "nbformat_minor": 2
}
